{
 "cells": [
  {
   "cell_type": "code",
   "execution_count": 1,
   "id": "00e3bc6a",
   "metadata": {},
   "outputs": [],
   "source": [
    "from sklearn.preprocessing import StandardScaler\n",
    "import joblib\n",
    "import pandas as pd\n",
    "\n",
    "# Load the saved model and scaler\n",
    "loaded_model = joblib.load('heart_disease_rf_model.pkl')\n",
    "loaded_scaler = joblib.load('scaler.pkl')"
   ]
  },
  {
   "cell_type": "code",
   "execution_count": 2,
   "id": "1911c649",
   "metadata": {},
   "outputs": [
    {
     "name": "stdout",
     "output_type": "stream",
     "text": [
      "Prediction for new data (with possible heart disease): [0]\n"
     ]
    }
   ],
   "source": [
    "# Example new data with suspected heart disease\n",
    "new_data_heart_disease = pd.DataFrame({\n",
    "    'age': [55],\n",
    "    'sex': [1],\n",
    "    'cp': [3],\n",
    "    'trestbps': [150],\n",
    "    'chol': [300],\n",
    "    'fbs': [1],\n",
    "    'restecg': [0],\n",
    "    'thalach': [120],\n",
    "    'exang': [1],\n",
    "    'oldpeak': [2.5],\n",
    "    'slope': [2],\n",
    "    'ca': [1],\n",
    "    'thal': [3]\n",
    "})\n",
    "\n",
    "# Apply the same scaler transformation to the new data\n",
    "new_data_heart_disease_transformed = loaded_scaler.transform(new_data_heart_disease)\n",
    "\n",
    "# Make prediction for the new data\n",
    "prediction_heart_disease = loaded_model.predict(new_data_heart_disease_transformed)\n",
    "\n",
    "# Output the prediction (0 for no heart disease, 1 for heart disease)\n",
    "print(\"Prediction for new data (with possible heart disease):\", prediction_heart_disease)\n"
   ]
  },
  {
   "cell_type": "code",
   "execution_count": 5,
   "id": "0e938f29",
   "metadata": {},
   "outputs": [
    {
     "name": "stdout",
     "output_type": "stream",
     "text": [
      "Prediction for new data (with possible heart disease): [0]\n",
      "Class Probabilities: [[0.63 0.37]]\n",
      "Predicted: Heart Disease\n"
     ]
    }
   ],
   "source": [
    "import pandas as pd\n",
    "import joblib\n",
    "\n",
    "# Load the saved model and scaler\n",
    "loaded_model = joblib.load('heart_disease_rf_model.pkl')\n",
    "loaded_scaler = joblib.load('scaler.pkl')\n",
    "\n",
    "# Example new data with suspected heart disease\n",
    "new_data_heart_disease = pd.DataFrame({\n",
    "    'age': [55],\n",
    "    'sex': [1],\n",
    "    'cp': [3],\n",
    "    'trestbps': [150],\n",
    "    'chol': [300],\n",
    "    'fbs': [1],\n",
    "    'restecg': [0],\n",
    "    'thalach': [120],\n",
    "    'exang': [1],\n",
    "    'oldpeak': [2.5],\n",
    "    'slope': [2],\n",
    "    'ca': [1],\n",
    "    'thal': [3]\n",
    "})\n",
    "\n",
    "# Apply the same scaler transformation to the new data\n",
    "new_data_heart_disease_transformed = loaded_scaler.transform(new_data_heart_disease)\n",
    "\n",
    "# Make prediction for the new data\n",
    "prediction_heart_disease = loaded_model.predict(new_data_heart_disease_transformed)\n",
    "\n",
    "# Output the prediction (0 for no heart disease, 1 for heart disease)\n",
    "print(\"Prediction for new data (with possible heart disease):\", prediction_heart_disease)\n",
    "\n",
    "# Get the probability for each class (0 or 1)\n",
    "probabilities = loaded_model.predict_proba(new_data_heart_disease_transformed)\n",
    "\n",
    "# Show probabilities for class 0 and class 1\n",
    "print(\"Class Probabilities:\", probabilities)\n",
    "\n",
    "# Decide based on a custom threshold, for example, if probability of 1 is greater than 0.6\n",
    "if probabilities[0][1] > 0.3:  # Change the threshold to 0.6 (you can adjust this value)\n",
    "    print(\"Predicted: Heart Disease\")\n",
    "else:\n",
    "    print(\"Predicted: No Heart Disease\")\n"
   ]
  },
  {
   "cell_type": "code",
   "execution_count": 6,
   "id": "464dd53d",
   "metadata": {},
   "outputs": [
    {
     "name": "stdout",
     "output_type": "stream",
     "text": [
      "Prediction for new data (with possible heart disease): [0]\n",
      "Class Probabilities: [[0.63 0.37]]\n",
      "Predicted: Heart Disease\n"
     ]
    }
   ],
   "source": [
    "import pandas as pd\n",
    "import joblib\n",
    "\n",
    "# Load the saved model and scaler\n",
    "loaded_model = joblib.load('heart_disease_rf_model.pkl')\n",
    "loaded_scaler = joblib.load('scaler.pkl')\n",
    "\n",
    "# Example new data with suspected heart disease\n",
    "new_data_heart_disease = pd.DataFrame({\n",
    "    'age': [55],\n",
    "    'sex': [1],\n",
    "    'cp': [3],\n",
    "    'trestbps': [150],\n",
    "    'chol': [300],\n",
    "    'fbs': [1],\n",
    "    'restecg': [0],\n",
    "    'thalach': [120],\n",
    "    'exang': [1],\n",
    "    'oldpeak': [2.5],\n",
    "    'slope': [2],\n",
    "    'ca': [1],\n",
    "    'thal': [3]\n",
    "})\n",
    "\n",
    "# Apply the same scaler transformation to the new data\n",
    "new_data_heart_disease_transformed = loaded_scaler.transform(new_data_heart_disease)\n",
    "\n",
    "# Make prediction for the new data\n",
    "prediction_heart_disease = loaded_model.predict(new_data_heart_disease_transformed)\n",
    "\n",
    "# Output the prediction (0 for no heart disease, 1 for heart disease)\n",
    "print(\"Prediction for new data (with possible heart disease):\", prediction_heart_disease)\n",
    "\n",
    "# Get the probability for each class (0 or 1)\n",
    "probabilities = loaded_model.predict_proba(new_data_heart_disease_transformed)\n",
    "\n",
    "# Show probabilities for class 0 and class 1\n",
    "print(\"Class Probabilities:\", probabilities)\n",
    "\n",
    "# Decide based on a custom threshold, for example, if probability of 1 (heart disease) is greater than 0.6\n",
    "if probabilities[0][1] > 0.3:\n",
    "    print(\"Predicted: Heart Disease\")\n",
    "else:\n",
    "    print(\"Predicted: No Heart Disease\")\n"
   ]
  },
  {
   "cell_type": "code",
   "execution_count": 7,
   "id": "c9e0a501",
   "metadata": {},
   "outputs": [
    {
     "name": "stdout",
     "output_type": "stream",
     "text": [
      "Predicted: Heart Disease\n"
     ]
    }
   ],
   "source": [
    "# Custom threshold\n",
    "if probabilities[0][1] > 0.2:  # Set a lower threshold to make it more sensitive\n",
    "    print(\"Predicted: Heart Disease\")\n",
    "else:\n",
    "    print(\"Predicted: No Heart Disease\")\n"
   ]
  },
  {
   "cell_type": "code",
   "execution_count": null,
   "id": "c865a124",
   "metadata": {},
   "outputs": [],
   "source": []
  }
 ],
 "metadata": {
  "kernelspec": {
   "display_name": "Python 3",
   "language": "python",
   "name": "python3"
  },
  "language_info": {
   "codemirror_mode": {
    "name": "ipython",
    "version": 3
   },
   "file_extension": ".py",
   "mimetype": "text/x-python",
   "name": "python",
   "nbconvert_exporter": "python",
   "pygments_lexer": "ipython3",
   "version": "3.6.7"
  }
 },
 "nbformat": 4,
 "nbformat_minor": 5
}
