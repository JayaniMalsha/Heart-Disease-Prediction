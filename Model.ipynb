{
 "cells": [
  {
   "cell_type": "code",
   "execution_count": 16,
   "id": "7890fd82",
   "metadata": {},
   "outputs": [],
   "source": [
    "# Step 1: Import necessary libraries\n",
    "import pandas as pd\n",
    "import numpy as np\n",
    "import joblib\n",
    "from sklearn.svm import SVC\n",
    "from sklearn.model_selection import train_test_split\n",
    "from sklearn.preprocessing import StandardScaler\n",
    "from sklearn.linear_model import LogisticRegression\n",
    "from sklearn.ensemble import RandomForestClassifier\n",
    "from sklearn.metrics import accuracy_score, classification_report, confusion_matrix\n",
    "from sklearn.model_selection import cross_val_score\n",
    "from sklearn.neighbors import KNeighborsClassifier\n",
    "from sklearn.model_selection import GridSearchCV"
   ]
  },
  {
   "cell_type": "code",
   "execution_count": 10,
   "id": "9f37c1d2",
   "metadata": {},
   "outputs": [],
   "source": [
    "# Step 2: Load the dataset\n",
    "data = pd.read_csv('dataset/heart.csv')  # Adjust the file path if necessary"
   ]
  },
  {
   "cell_type": "code",
   "execution_count": 11,
   "id": "af0de2b4",
   "metadata": {},
   "outputs": [
    {
     "name": "stdout",
     "output_type": "stream",
     "text": [
      "age         0\n",
      "sex         0\n",
      "cp          0\n",
      "trestbps    0\n",
      "chol        0\n",
      "fbs         0\n",
      "restecg     0\n",
      "thalach     0\n",
      "exang       0\n",
      "oldpeak     0\n",
      "slope       0\n",
      "ca          0\n",
      "thal        0\n",
      "target      0\n",
      "dtype: int64\n",
      "723\n"
     ]
    }
   ],
   "source": [
    "# Step 3: Data Preprocessing\n",
    "\n",
    "# Check for missing values in the dataset\n",
    "print(data.isnull().sum())\n",
    "\n",
    "# In this dataset, there are no missing values. If there were missing values, you could fill or drop them.\n",
    "# You can also check for duplicate rows\n",
    "print(data.duplicated().sum())\n",
    "\n",
    "# Feature columns (X) and target column (y)\n",
    "X = data.drop('target', axis=1)  # Features\n",
    "y = data['target']  # Target variable (1: heart disease, 0: no heart disease)"
   ]
  },
  {
   "cell_type": "code",
   "execution_count": 12,
   "id": "9b500bbe",
   "metadata": {},
   "outputs": [],
   "source": [
    "# Step 4: Split the data into training and testing sets\n",
    "X_train, X_test, y_train, y_test = train_test_split(X, y, test_size=0.2, random_state=42)"
   ]
  },
  {
   "cell_type": "code",
   "execution_count": 13,
   "id": "7dcba00a",
   "metadata": {},
   "outputs": [],
   "source": [
    "# Step 5: Standardize the data (Scaling)\n",
    "scaler = StandardScaler()\n",
    "X_train = scaler.fit_transform(X_train)  # Fit and transform the training data\n",
    "X_test = scaler.transform(X_test)  # Only transform the testing data"
   ]
  },
  {
   "cell_type": "code",
   "execution_count": 14,
   "id": "6b1b99c3",
   "metadata": {},
   "outputs": [
    {
     "name": "stdout",
     "output_type": "stream",
     "text": [
      "Scaler saved successfully!\n"
     ]
    }
   ],
   "source": [
    "# Initialize and fit the scaler\n",
    "scaler = StandardScaler()\n",
    "scaler.fit(X_train)\n",
    "\n",
    "# Save the fitted scaler\n",
    "joblib.dump(scaler, 'scaler.pkl')  \n",
    "\n",
    "print(\"Scaler saved successfully!\")"
   ]
  },
  {
   "cell_type": "code",
   "execution_count": 17,
   "id": "fba9aacb",
   "metadata": {},
   "outputs": [],
   "source": [
    "# Step 6: Model Selection - Random Forest, SVM, KNN\n",
    "models = {\n",
    "    \"Random Forest\": RandomForestClassifier(),\n",
    "    \"SVM\": SVC(),\n",
    "    \"K-Nearest Neighbors\": KNeighborsClassifier()\n",
    "}"
   ]
  },
  {
   "cell_type": "code",
   "execution_count": 18,
   "id": "c3881856",
   "metadata": {},
   "outputs": [
    {
     "name": "stdout",
     "output_type": "stream",
     "text": [
      "\n",
      "Training Random Forest...\n",
      "\n",
      "Random Forest Results:\n",
      "Accuracy Score: 0.9853658536585366\n",
      "Classification Report:\n",
      "               precision    recall  f1-score   support\n",
      "\n",
      "           0       0.97      1.00      0.99       102\n",
      "           1       1.00      0.97      0.99       103\n",
      "\n",
      "    accuracy                           0.99       205\n",
      "   macro avg       0.99      0.99      0.99       205\n",
      "weighted avg       0.99      0.99      0.99       205\n",
      "\n",
      "Confusion Matrix:\n",
      " [[102   0]\n",
      " [  3 100]]\n",
      "Cross-validation Scores: [1.         1.         1.         1.         0.98536585]\n",
      "Average Cross-validation Score: 0.9970731707317073\n",
      "\n",
      "Training SVM...\n",
      "\n",
      "SVM Results:\n",
      "Accuracy Score: 0.8878048780487805\n",
      "Classification Report:\n",
      "               precision    recall  f1-score   support\n",
      "\n",
      "           0       0.93      0.83      0.88       102\n",
      "           1       0.85      0.94      0.89       103\n",
      "\n",
      "    accuracy                           0.89       205\n",
      "   macro avg       0.89      0.89      0.89       205\n",
      "weighted avg       0.89      0.89      0.89       205\n",
      "\n",
      "Confusion Matrix:\n",
      " [[85 17]\n",
      " [ 6 97]]\n",
      "Cross-validation Scores: [0.70243902 0.74146341 0.72195122 0.65365854 0.69756098]\n",
      "Average Cross-validation Score: 0.7034146341463415\n",
      "\n",
      "Training K-Nearest Neighbors...\n",
      "\n",
      "K-Nearest Neighbors Results:\n",
      "Accuracy Score: 0.8341463414634146\n",
      "Classification Report:\n",
      "               precision    recall  f1-score   support\n",
      "\n",
      "           0       0.88      0.77      0.82       102\n",
      "           1       0.80      0.89      0.84       103\n",
      "\n",
      "    accuracy                           0.83       205\n",
      "   macro avg       0.84      0.83      0.83       205\n",
      "weighted avg       0.84      0.83      0.83       205\n",
      "\n",
      "Confusion Matrix:\n",
      " [[79 23]\n",
      " [11 92]]\n",
      "Cross-validation Scores: [0.76585366 0.74634146 0.76097561 0.71219512 0.75121951]\n",
      "Average Cross-validation Score: 0.7473170731707317\n"
     ]
    }
   ],
   "source": [
    "# Step 7: Train and evaluate each model\n",
    "for model_name, model in models.items():\n",
    "    print(f\"\\nTraining {model_name}...\")\n",
    "    # Train the model\n",
    "    model.fit(X_train, y_train)\n",
    "    \n",
    "    # Make predictions\n",
    "    y_pred = model.predict(X_test)\n",
    "    \n",
    "    # Evaluate the model\n",
    "    print(f\"\\n{model_name} Results:\")\n",
    "    print(\"Accuracy Score:\", accuracy_score(y_test, y_pred))\n",
    "    print(\"Classification Report:\\n\", classification_report(y_test, y_pred))\n",
    "    print(\"Confusion Matrix:\\n\", confusion_matrix(y_test, y_pred))\n",
    "    \n",
    "    # Cross-validation\n",
    "    cv_scores = cross_val_score(model, X, y, cv=5)\n",
    "    print(\"Cross-validation Scores:\", cv_scores)\n",
    "    print(\"Average Cross-validation Score:\", np.mean(cv_scores))"
   ]
  },
  {
   "cell_type": "code",
   "execution_count": 19,
   "id": "3d3c2d63",
   "metadata": {},
   "outputs": [
    {
     "name": "stdout",
     "output_type": "stream",
     "text": [
      "Fitting 5 folds for each of 216 candidates, totalling 1080 fits\n",
      "Best Parameters: {'bootstrap': False, 'max_depth': 10, 'min_samples_leaf': 1, 'min_samples_split': 5, 'n_estimators': 50}\n",
      "Best Cross-validation Accuracy: 0.9853658536585366\n",
      "Best Random Forest Accuracy: 0.9853658536585366\n",
      "Classification Report:\n",
      "               precision    recall  f1-score   support\n",
      "\n",
      "           0       0.97      1.00      0.99       102\n",
      "           1       1.00      0.97      0.99       103\n",
      "\n",
      "    accuracy                           0.99       205\n",
      "   macro avg       0.99      0.99      0.99       205\n",
      "weighted avg       0.99      0.99      0.99       205\n",
      "\n"
     ]
    }
   ],
   "source": [
    "# Step 8: Model Selection\n",
    "\n",
    "# Hyperparameter Tuning for Random Forest (using GridSearchCV)\n",
    "\n",
    "# Define the model\n",
    "rf = RandomForestClassifier(random_state=42)\n",
    "\n",
    "# Define the hyperparameters grid\n",
    "param_grid = {\n",
    "    'n_estimators': [50, 100, 200],  # Number of trees\n",
    "    'max_depth': [None, 10, 20, 30],  # Maximum depth of the trees\n",
    "    'min_samples_split': [2, 5, 10],  # Minimum samples required to split an internal node\n",
    "    'min_samples_leaf': [1, 2, 4],  # Minimum samples required to be at a leaf node\n",
    "    'bootstrap': [True, False],  # Whether bootstrap samples are used when building trees\n",
    "}\n",
    "\n",
    "# Create a GridSearchCV object\n",
    "grid_search = GridSearchCV(estimator=rf, param_grid=param_grid, cv=5, verbose=2, n_jobs=-1, scoring='accuracy')\n",
    "\n",
    "# Fit the grid search to the data\n",
    "grid_search.fit(X_train, y_train)\n",
    "\n",
    "# Print the best parameters and best score\n",
    "print(f\"Best Parameters: {grid_search.best_params_}\")\n",
    "print(f\"Best Cross-validation Accuracy: {grid_search.best_score_}\")\n",
    "\n",
    "# Get the best model\n",
    "best_rf_model = grid_search.best_estimator_\n",
    "\n",
    "# Evaluate the best model on the test set\n",
    "y_pred_best = best_rf_model.predict(X_test)\n",
    "print(\"Best Random Forest Accuracy:\", accuracy_score(y_test, y_pred_best))\n",
    "print(\"Classification Report:\\n\", classification_report(y_test, y_pred_best))\n",
    "\n"
   ]
  },
  {
   "cell_type": "code",
   "execution_count": null,
   "id": "a6495d11",
   "metadata": {},
   "outputs": [],
   "source": [
    "# Feature Engineering\n",
    "# a. Interaction Features\n",
    "\n",
    "# Add interaction features (example: age * cholesterol)\n",
    "X['age_chol_interaction'] = X['age'] * X['chol']\n",
    "\n",
    "# Re-split the data after adding new features\n",
    "X_train, X_test, y_train, y_test = train_test_split(X, y, test_size=0.2, random_state=42)\n",
    "\n",
    "# Standardize the new data\n",
    "X_train = scaler.fit_transform(X_train)\n",
    "X_test = scaler.transform(X_test)\n",
    "\n",
    "# b. Removing Irrelevant Features\n",
    "\n",
    "# Example: Drop 'restecg' and 'ca' if they don't contribute much\n",
    "X = X.drop(columns=['restecg', 'ca'])\n",
    "\n",
    "# Re-split the data after removing features\n",
    "X_train, X_test, y_train, y_test = train_test_split(X, y, test_size=0.2, random_state=42)\n",
    "\n",
    "# Standardize the new data\n",
    "X_train = scaler.fit_transform(X_train)\n",
    "X_test = scaler.transform(X_test)"
   ]
  },
  {
   "cell_type": "code",
   "execution_count": 20,
   "id": "ae2775ff",
   "metadata": {},
   "outputs": [
    {
     "name": "stdout",
     "output_type": "stream",
     "text": [
      "Model saved successfully!\n"
     ]
    }
   ],
   "source": [
    "# Assuming 'best_rf_model' is your trained Random Forest model from hyperparameter tuning or training.\n",
    "# Save the trained model to a file\n",
    "joblib.dump(best_rf_model, 'heart_disease_rf_model.pkl')\n",
    "\n",
    "print(\"Model saved successfully!\")"
   ]
  },
  {
   "cell_type": "code",
   "execution_count": null,
   "id": "90fb5707",
   "metadata": {},
   "outputs": [],
   "source": []
  }
 ],
 "metadata": {
  "kernelspec": {
   "display_name": "Python 3",
   "language": "python",
   "name": "python3"
  },
  "language_info": {
   "codemirror_mode": {
    "name": "ipython",
    "version": 3
   },
   "file_extension": ".py",
   "mimetype": "text/x-python",
   "name": "python",
   "nbconvert_exporter": "python",
   "pygments_lexer": "ipython3",
   "version": "3.6.7"
  }
 },
 "nbformat": 4,
 "nbformat_minor": 5
}
